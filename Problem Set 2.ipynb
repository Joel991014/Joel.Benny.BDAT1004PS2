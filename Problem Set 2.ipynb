{
 "cells": [
  {
   "cell_type": "code",
   "execution_count": 45,
   "id": "cde38ee3",
   "metadata": {},
   "outputs": [
    {
     "data": {
      "text/plain": [
       "6"
      ]
     },
     "execution_count": 45,
     "metadata": {},
     "output_type": "execute_result"
    }
   ],
   "source": [
    "# Question 1\n",
    "\n",
    "a = 0\n",
    "def b():\n",
    "    global a\n",
    "    a = c(a)\n",
    "def c(a):\n",
    "    return a + 2\n",
    "b()\n",
    "b()\n",
    "b()\n",
    "a"
   ]
  },
  {
   "cell_type": "code",
   "execution_count": null,
   "id": "85cd8894",
   "metadata": {},
   "outputs": [],
   "source": [
    "# Explain your answer by indicating what happens in every executed statement.\n",
    "\n",
    "b(): This step calls the function c(a) which is c(0) and the value of a is 2.So in every function call of b the value of a increases to 4\n",
    "    and then 6.Thus the final value of a is 6.\n"
   ]
  },
  {
   "cell_type": "code",
   "execution_count": 62,
   "id": "252cb314",
   "metadata": {},
   "outputs": [],
   "source": [
    "# Question 2\n",
    "\n",
    "def fileLength(file_name):\n",
    "    try:\n",
    "        file = open(file_name)\n",
    "        contents = file.read()\n",
    "        file.close()\n",
    "        print(len(contents))\n",
    "    except:\n",
    "        print(\"File \"+str(file_name)+\"not found\")\n",
    "        "
   ]
  },
  {
   "cell_type": "code",
   "execution_count": 63,
   "id": "b74188d1",
   "metadata": {},
   "outputs": [
    {
     "name": "stdout",
     "output_type": "stream",
     "text": [
      "53\n"
     ]
    }
   ],
   "source": [
    "fileLength('midterm.txt')"
   ]
  },
  {
   "cell_type": "code",
   "execution_count": 64,
   "id": "bffbb978",
   "metadata": {},
   "outputs": [
    {
     "name": "stdout",
     "output_type": "stream",
     "text": [
      "File idterm.pynot found\n"
     ]
    }
   ],
   "source": [
    "fileLength('idterm.py')"
   ]
  },
  {
   "cell_type": "code",
   "execution_count": 14,
   "id": "08ff580a",
   "metadata": {},
   "outputs": [
    {
     "name": "stdout",
     "output_type": "stream",
     "text": [
      "contents in the list are\n",
      "['doll', 'firetruck', 'kitten']\n",
      "I am a Kangaroo located at coordinates(3,0)\n"
     ]
    }
   ],
   "source": [
    "#Question 3\n",
    "\n",
    "class Marsupial: \n",
    "      \n",
    "    def __init__(self,a,b):            \n",
    "        self.pouch=[]                   \n",
    "        \n",
    "        \n",
    "    def put_in_pouch(self,items):        \n",
    "        self.pouch.append(items)\n",
    "        \n",
    "    def pouch_contents(self):           \n",
    "        return self.pouch\n",
    "\n",
    "class Kangaroo(Marsupial):             \n",
    "    def __init__(self,a,b):              \n",
    "        super().__init__(a,b)          \n",
    "        self.da = 0                      \n",
    "        self.db = 0                        \n",
    "    \n",
    "    def jump(self,a,b):                 \n",
    "        self.da = self.da + a              \n",
    "        self.db = self.db + b\n",
    "    \n",
    "    def __str__(self):                                                       \n",
    "        \n",
    "        return ('I am a Kangaroo located at coordinates({},{})'.format(self.da,self.db))\n",
    "\n",
    "x = Kangaroo(0,0)\n",
    "x.put_in_pouch('doll')\n",
    "x.put_in_pouch('firetruck')\n",
    "x.put_in_pouch('kitten')\n",
    "x.pouch_contents()\n",
    "print(\"contents in the list are\")\n",
    "print(x.pouch)  \n",
    "x.jump(1,0)\n",
    "x.jump(1,0)\n",
    "x.jump(1,0)\n",
    "print(x)"
   ]
  },
  {
   "cell_type": "code",
   "execution_count": 2,
   "id": "87bc36c5",
   "metadata": {},
   "outputs": [],
   "source": [
    "# Question 4\n",
    "\n",
    "def collatz(x):\n",
    "    if x==1:\n",
    "        return 1\n",
    "    else:\n",
    "        print(x)\n",
    "        if x%2==0:\n",
    "            return collatz(x//2)\n",
    "        else: \n",
    "            return collatz(3*x+1)"
   ]
  },
  {
   "cell_type": "code",
   "execution_count": 4,
   "id": "b6e46fbd",
   "metadata": {},
   "outputs": [
    {
     "data": {
      "text/plain": [
       "1"
      ]
     },
     "execution_count": 4,
     "metadata": {},
     "output_type": "execute_result"
    }
   ],
   "source": [
    "collatz(1)"
   ]
  },
  {
   "cell_type": "code",
   "execution_count": 5,
   "id": "33b8b8ed",
   "metadata": {},
   "outputs": [
    {
     "name": "stdout",
     "output_type": "stream",
     "text": [
      "10\n",
      "5\n",
      "16\n",
      "8\n",
      "4\n",
      "2\n"
     ]
    },
    {
     "data": {
      "text/plain": [
       "1"
      ]
     },
     "execution_count": 5,
     "metadata": {},
     "output_type": "execute_result"
    }
   ],
   "source": [
    "collatz(10)"
   ]
  },
  {
   "cell_type": "code",
   "execution_count": 6,
   "id": "36df2061",
   "metadata": {},
   "outputs": [],
   "source": [
    "# Question 5\n",
    "\n",
    "def binary(n):\n",
    "    if n==0:\n",
    "        return 0\n",
    "    else:\n",
    "        binary(n//2)\n",
    "        print(n%2,end='')\n",
    "            "
   ]
  },
  {
   "cell_type": "code",
   "execution_count": 7,
   "id": "e6170073",
   "metadata": {},
   "outputs": [
    {
     "data": {
      "text/plain": [
       "0"
      ]
     },
     "execution_count": 7,
     "metadata": {},
     "output_type": "execute_result"
    }
   ],
   "source": [
    "binary(0)"
   ]
  },
  {
   "cell_type": "code",
   "execution_count": 8,
   "id": "bc53fba5",
   "metadata": {},
   "outputs": [
    {
     "name": "stdout",
     "output_type": "stream",
     "text": [
      "1"
     ]
    }
   ],
   "source": [
    "binary(1)"
   ]
  },
  {
   "cell_type": "code",
   "execution_count": 9,
   "id": "efacaff5",
   "metadata": {},
   "outputs": [
    {
     "name": "stdout",
     "output_type": "stream",
     "text": [
      "11"
     ]
    }
   ],
   "source": [
    "binary(3)"
   ]
  },
  {
   "cell_type": "code",
   "execution_count": 10,
   "id": "56317f00",
   "metadata": {},
   "outputs": [
    {
     "name": "stdout",
     "output_type": "stream",
     "text": [
      "1001"
     ]
    }
   ],
   "source": [
    "binary(9)"
   ]
  },
  {
   "cell_type": "code",
   "execution_count": 11,
   "id": "58f1b2dc",
   "metadata": {},
   "outputs": [],
   "source": [
    "# Question 6\n",
    "\n",
    "from html.parser import HTMLParser\n",
    "store=[]\n",
    "class HeadingParser(HTMLParser):\n",
    "    global store\n",
    "    def handle_starttag(self, tag, attrs):\n",
    "        store.append(tag)\n",
    "    def handle_data(self, data):\n",
    "        store.append(data)        \n",
    "    def handle_endtag(self,tag):\n",
    "        if(tag==\"html\"):\n",
    "            for val in store:\n",
    "                for tagno in ('h1','h2','h3','h4','h5','h6'):\n",
    "                    if(val==tagno):\n",
    "                        ind=store.index(tagno)\n",
    "                        print(store[ind+1],end=\"\\n\\t\")"
   ]
  },
  {
   "cell_type": "code",
   "execution_count": 14,
   "id": "40094386",
   "metadata": {},
   "outputs": [
    {
     "name": "stdout",
     "output_type": "stream",
     "text": [
      "W3C Mission\n",
      "\tPrinciples\n",
      "\t"
     ]
    }
   ],
   "source": [
    "infile = open(\"C:/Users/joelb/W3c.html\")\n",
    "content = infile.read()\n",
    "infile.close()\n",
    "hp = HeadingParser()\n",
    "hp.feed(content)"
   ]
  },
  {
   "cell_type": "code",
   "execution_count": 25,
   "id": "83b1d197",
   "metadata": {},
   "outputs": [],
   "source": [
    "# Question 7\n",
    "\n",
    "from urllib.request import urlopen\n",
    "from urllib.parse import urljoin\n",
    "from html.parser import HTMLParser\n",
    "\n",
    "class LinkParser(HTMLParser):\n",
    "    def init(self):\n",
    "        super().init()\n",
    "        self.links = []\n",
    "\n",
    "    def handle_starttag(self, tag, attrs):\n",
    "        if tag == 'a':\n",
    "            for attr in attrs:\n",
    "                if attr[0] == 'href':\n",
    "                    self.links.append(attr[1])\n",
    "\n",
    "def webdir(url, depth, indent):\n",
    "    if depth < 0:\n",
    "        return\n",
    "\n",
    "    print(' ' * indent + url)\n",
    "\n",
    "    try:\n",
    "        response = urlopen(url)\n",
    "    except:\n",
    "        return\n",
    "\n",
    "    parser = LinkParser()\n",
    "    parser.feed(response.read().decode())\n",
    "\n",
    "    for link in parser.links:\n",
    "        absolute_url = urljoin(url, link)\n",
    "        webdir(absolute_url, depth - 1, indent + 1)"
   ]
  },
  {
   "cell_type": "code",
   "execution_count": 43,
   "id": "ab995012",
   "metadata": {},
   "outputs": [
    {
     "name": "stdout",
     "output_type": "stream",
     "text": [
      "http://reed.cs.depaul.edu/lperkovic/csc242/test1.html\n"
     ]
    }
   ],
   "source": [
    "webdir('http://reed.cs.depaul.edu/lperkovic/csc242/test1.html', 2, 0)"
   ]
  },
  {
   "cell_type": "code",
   "execution_count": 17,
   "id": "dd4f2c87",
   "metadata": {},
   "outputs": [
    {
     "name": "stdout",
     "output_type": "stream",
     "text": [
      "Collecting ipython-sql\n",
      "  Downloading ipython_sql-0.5.0-py3-none-any.whl (20 kB)\n",
      "Requirement already satisfied: ipython-genutils in c:\\users\\joelb\\anaconda3\\lib\\site-packages (from ipython-sql) (0.2.0)\n",
      "Collecting prettytable\n",
      "  Downloading prettytable-3.6.0-py3-none-any.whl (27 kB)\n",
      "Collecting sqlalchemy>=2.0\n",
      "  Downloading SQLAlchemy-2.0.5.post1-cp39-cp39-win_amd64.whl (2.0 MB)\n",
      "     ---------------------------------------- 2.0/2.0 MB 4.6 MB/s eta 0:00:00\n",
      "Requirement already satisfied: ipython in c:\\users\\joelb\\anaconda3\\lib\\site-packages (from ipython-sql) (7.31.1)\n",
      "Requirement already satisfied: six in c:\\users\\joelb\\anaconda3\\lib\\site-packages (from ipython-sql) (1.16.0)\n",
      "Collecting sqlparse\n",
      "  Downloading sqlparse-0.4.3-py3-none-any.whl (42 kB)\n",
      "     ---------------------------------------- 42.8/42.8 kB 2.0 MB/s eta 0:00:00\n",
      "Requirement already satisfied: typing-extensions>=4.2.0 in c:\\users\\joelb\\anaconda3\\lib\\site-packages (from sqlalchemy>=2.0->ipython-sql) (4.3.0)\n",
      "Requirement already satisfied: greenlet!=0.4.17 in c:\\users\\joelb\\anaconda3\\lib\\site-packages (from sqlalchemy>=2.0->ipython-sql) (1.1.1)\n",
      "Requirement already satisfied: backcall in c:\\users\\joelb\\anaconda3\\lib\\site-packages (from ipython->ipython-sql) (0.2.0)\n",
      "Requirement already satisfied: jedi>=0.16 in c:\\users\\joelb\\anaconda3\\lib\\site-packages (from ipython->ipython-sql) (0.18.1)\n",
      "Requirement already satisfied: pickleshare in c:\\users\\joelb\\anaconda3\\lib\\site-packages (from ipython->ipython-sql) (0.7.5)\n",
      "Requirement already satisfied: colorama in c:\\users\\joelb\\anaconda3\\lib\\site-packages (from ipython->ipython-sql) (0.4.5)\n",
      "Requirement already satisfied: decorator in c:\\users\\joelb\\anaconda3\\lib\\site-packages (from ipython->ipython-sql) (5.1.1)\n",
      "Requirement already satisfied: pygments in c:\\users\\joelb\\anaconda3\\lib\\site-packages (from ipython->ipython-sql) (2.11.2)\n",
      "Requirement already satisfied: matplotlib-inline in c:\\users\\joelb\\anaconda3\\lib\\site-packages (from ipython->ipython-sql) (0.1.6)\n",
      "Requirement already satisfied: prompt-toolkit!=3.0.0,!=3.0.1,<3.1.0,>=2.0.0 in c:\\users\\joelb\\anaconda3\\lib\\site-packages (from ipython->ipython-sql) (3.0.20)\n",
      "Requirement already satisfied: setuptools>=18.5 in c:\\users\\joelb\\anaconda3\\lib\\site-packages (from ipython->ipython-sql) (63.4.1)\n",
      "Requirement already satisfied: traitlets>=4.2 in c:\\users\\joelb\\anaconda3\\lib\\site-packages (from ipython->ipython-sql) (5.1.1)\n",
      "Requirement already satisfied: wcwidth in c:\\users\\joelb\\anaconda3\\lib\\site-packages (from prettytable->ipython-sql) (0.2.5)\n",
      "Requirement already satisfied: parso<0.9.0,>=0.8.0 in c:\\users\\joelb\\anaconda3\\lib\\site-packages (from jedi>=0.16->ipython->ipython-sql) (0.8.3)\n",
      "Installing collected packages: sqlparse, sqlalchemy, prettytable, ipython-sql\n",
      "  Attempting uninstall: sqlalchemy\n",
      "    Found existing installation: SQLAlchemy 1.4.39\n",
      "    Uninstalling SQLAlchemy-1.4.39:\n",
      "      Successfully uninstalled SQLAlchemy-1.4.39\n",
      "Successfully installed ipython-sql-0.5.0 prettytable-3.6.0 sqlalchemy-2.0.5.post1 sqlparse-0.4.3\n"
     ]
    }
   ],
   "source": [
    " !pip install ipython-sql\n",
    "    "
   ]
  },
  {
   "cell_type": "code",
   "execution_count": 18,
   "id": "7ebbab6f",
   "metadata": {},
   "outputs": [],
   "source": [
    "# Question 8\n",
    "\n",
    "import sqlite3\n",
    "con = sqlite3.connect('p2.db')\n",
    "cur = con.cursor()\n"
   ]
  },
  {
   "cell_type": "code",
   "execution_count": 19,
   "id": "6f50c9aa",
   "metadata": {},
   "outputs": [
    {
     "data": {
      "text/plain": [
       "<sqlite3.Cursor at 0x1fcc6dd3420>"
      ]
     },
     "execution_count": 19,
     "metadata": {},
     "output_type": "execute_result"
    }
   ],
   "source": [
    "cur.execute(\"CREATE TABLE Weather (City text, Country text, Season text, Temperature float, Rainfall float)\")"
   ]
  },
  {
   "cell_type": "code",
   "execution_count": 20,
   "id": "f0ac5c1f",
   "metadata": {},
   "outputs": [
    {
     "data": {
      "text/plain": [
       "<sqlite3.Cursor at 0x1fcc6dd3420>"
      ]
     },
     "execution_count": 20,
     "metadata": {},
     "output_type": "execute_result"
    }
   ],
   "source": [
    "r=('Mumbai','India','Winter',24.8,5.9)\n",
    "cur.execute(\"INSERT INTO Weather VALUES(?,?,?,?,?)\",r)"
   ]
  },
  {
   "cell_type": "code",
   "execution_count": 21,
   "id": "d760b469",
   "metadata": {},
   "outputs": [
    {
     "data": {
      "text/plain": [
       "<sqlite3.Cursor at 0x1fcc6dd3420>"
      ]
     },
     "execution_count": 21,
     "metadata": {},
     "output_type": "execute_result"
    }
   ],
   "source": [
    "r=('Mumbai','India','Spring',28.4,16.2)\n",
    "cur.execute(\"INSERT INTO Weather  VALUES(?,?,?,?,?)\",r)\n",
    "r=('Mumbai','India', 'Summer', 27.9 ,1549.4)\n",
    "cur.execute(\"INSERT INTO Weather  VALUES(?,?,?,?,?)\",r)\n",
    "r=('Mumbai','India','Fall', 27.6, 346.0)\n",
    "cur.execute(\"INSERT INTO Weather  VALUES(?,?,?,?,?)\",r)\n",
    "r=('London' ,'United Kingdom', 'Winter', 4.2 ,207.7)\n",
    "cur.execute(\"INSERT INTO Weather  VALUES(?,?,?,?,?)\",r)\n",
    "r=('London' ,'United Kingdom','Spring',8.3 ,169.6)\n",
    "cur.execute(\"INSERT INTO Weather  VALUES(?,?,?,?,?)\",r)\n",
    "r=('London' ,'United Kingdom', 'Summer', 15.7 ,157.0)\n",
    "cur.execute(\"INSERT INTO Weather  VALUES(?,?,?,?,?)\",r)\n",
    "r=('London' ,'United Kingdom','Fall',10.4 ,218.5)\n",
    "cur.execute(\"INSERT INTO Weather  VALUES(?,?,?,?,?)\",r)\n",
    "r=('Cairo', 'Egypt' ,'Winter' , 13.6 ,16.5)\n",
    "cur.execute(\"INSERT INTO Weather  VALUES(?,?,?,?,?)\",r)\n",
    "r=('Cairo', 'Egypt' ,'Spring' , 20.7 ,6.5)\n",
    "cur.execute(\"INSERT INTO Weather  VALUES(?,?,?,?,?)\",r)\n",
    "r=('Cairo', 'Egypt' ,'Summer' , 27.7 ,0.1)\n",
    "cur.execute(\"INSERT INTO Weather  VALUES(?,?,?,?,?)\",r)\n",
    "r=('Cairo', 'Egypt' ,'Fall' ,22.2 ,4.5)\n",
    "cur.execute(\"INSERT INTO Weather  VALUES(?,?,?,?,?)\",r)"
   ]
  },
  {
   "cell_type": "code",
   "execution_count": 22,
   "id": "364c4172",
   "metadata": {},
   "outputs": [],
   "source": [
    "con.commit()\n",
    "con.close()"
   ]
  },
  {
   "cell_type": "code",
   "execution_count": 23,
   "id": "03902b57",
   "metadata": {},
   "outputs": [
    {
     "data": {
      "text/plain": [
       "[('Mumbai', 'India', 'Winter', 24.8, 5.9),\n",
       " ('Mumbai', 'India', 'Spring', 28.4, 16.2),\n",
       " ('Mumbai', 'India', 'Summer', 27.9, 1549.4),\n",
       " ('Mumbai', 'India', 'Fall', 27.6, 346.0),\n",
       " ('London', 'United Kingdom', 'Winter', 4.2, 207.7),\n",
       " ('London', 'United Kingdom', 'Spring', 8.3, 169.6),\n",
       " ('London', 'United Kingdom', 'Summer', 15.7, 157.0),\n",
       " ('London', 'United Kingdom', 'Fall', 10.4, 218.5),\n",
       " ('Cairo', 'Egypt', 'Winter', 13.6, 16.5),\n",
       " ('Cairo', 'Egypt', 'Spring', 20.7, 6.5),\n",
       " ('Cairo', 'Egypt', 'Summer', 27.7, 0.1),\n",
       " ('Cairo', 'Egypt', 'Fall', 22.2, 4.5)]"
      ]
     },
     "execution_count": 23,
     "metadata": {},
     "output_type": "execute_result"
    }
   ],
   "source": [
    "con = sqlite3.connect('p2.db')\n",
    "cur = con.cursor()\n",
    "cur.execute('SELECT * FROM Weather')\n",
    "cur.fetchall()"
   ]
  },
  {
   "cell_type": "code",
   "execution_count": 24,
   "id": "35912ba2",
   "metadata": {},
   "outputs": [
    {
     "data": {
      "text/plain": [
       "[(24.8,),\n",
       " (28.4,),\n",
       " (27.9,),\n",
       " (27.6,),\n",
       " (4.2,),\n",
       " (8.3,),\n",
       " (15.7,),\n",
       " (10.4,),\n",
       " (13.6,),\n",
       " (20.7,),\n",
       " (27.7,),\n",
       " (22.2,)]"
      ]
     },
     "execution_count": 24,
     "metadata": {},
     "output_type": "execute_result"
    }
   ],
   "source": [
    "# a) All the temperature data.\n",
    "cur.execute('SELECT Temperature FROM Weather')\n",
    "cur.fetchall()"
   ]
  },
  {
   "cell_type": "code",
   "execution_count": 28,
   "id": "4f392432",
   "metadata": {},
   "outputs": [
    {
     "data": {
      "text/plain": [
       "[('Mumbai',), ('London',), ('Cairo',)]"
      ]
     },
     "execution_count": 28,
     "metadata": {},
     "output_type": "execute_result"
    }
   ],
   "source": [
    "# b) All the cities, but without repetition.\n",
    "cur.execute('SELECT DISTINCT City FROM Weather')\n",
    "cur.fetchall()"
   ]
  },
  {
   "cell_type": "code",
   "execution_count": 31,
   "id": "a03e31a0",
   "metadata": {},
   "outputs": [
    {
     "data": {
      "text/plain": [
       "[('Mumbai', 'India', 'Winter', 24.8, 5.9),\n",
       " ('Mumbai', 'India', 'Spring', 28.4, 16.2),\n",
       " ('Mumbai', 'India', 'Summer', 27.9, 1549.4),\n",
       " ('Mumbai', 'India', 'Fall', 27.6, 346.0)]"
      ]
     },
     "execution_count": 31,
     "metadata": {},
     "output_type": "execute_result"
    }
   ],
   "source": [
    "# c) All the records for India.\n",
    "cur.execute(\"SELECT *  FROM Weather WHERE Country = 'India'\")\n",
    "cur.fetchall()"
   ]
  },
  {
   "cell_type": "code",
   "execution_count": 32,
   "id": "3f4d8bd0",
   "metadata": {},
   "outputs": [
    {
     "data": {
      "text/plain": [
       "[('Mumbai', 'India', 'Fall', 27.6, 346.0),\n",
       " ('London', 'United Kingdom', 'Fall', 10.4, 218.5),\n",
       " ('Cairo', 'Egypt', 'Fall', 22.2, 4.5)]"
      ]
     },
     "execution_count": 32,
     "metadata": {},
     "output_type": "execute_result"
    }
   ],
   "source": [
    "# d) All the Fall records.\n",
    "\n",
    "cur.execute(\"SELECT *  FROM Weather WHERE Season = 'Fall'\")\n",
    "cur.fetchall()"
   ]
  },
  {
   "cell_type": "code",
   "execution_count": 33,
   "id": "fd200220",
   "metadata": {},
   "outputs": [
    {
     "data": {
      "text/plain": [
       "[('Mumbai', 'India', 'Fall'),\n",
       " ('London', 'United Kingdom', 'Winter'),\n",
       " ('London', 'United Kingdom', 'Fall')]"
      ]
     },
     "execution_count": 33,
     "metadata": {},
     "output_type": "execute_result"
    }
   ],
   "source": [
    "# e) The city, country, and season for which the average rainfall is between 200 and 400 millimeters.\n",
    "cur.execute(\"SELECT City,Country,Season FROM Weather WHERE Rainfall BETWEEN 200 AND 400\")\n",
    "cur.fetchall()"
   ]
  },
  {
   "cell_type": "code",
   "execution_count": 34,
   "id": "c9b1efcd",
   "metadata": {},
   "outputs": [
    {
     "data": {
      "text/plain": [
       "[('Cairo', 'Egypt'), ('Mumbai', 'India')]"
      ]
     },
     "execution_count": 34,
     "metadata": {},
     "output_type": "execute_result"
    }
   ],
   "source": [
    "# f) The city and country for which the average Fall temperature is above 20 degrees, in increasing temperature order\n",
    "cur.execute(\"SELECT DISTINCT City,Country FROM Weather WHERE Temperature> 20 ORDER BY Temperature ASC\")\n",
    "cur.fetchall()"
   ]
  },
  {
   "cell_type": "code",
   "execution_count": 35,
   "id": "eeff7401",
   "metadata": {},
   "outputs": [
    {
     "data": {
      "text/plain": [
       "[(27.6,)]"
      ]
     },
     "execution_count": 35,
     "metadata": {},
     "output_type": "execute_result"
    }
   ],
   "source": [
    "# g) The total annual rainfall for Cairo.\n",
    "cur.execute(\"SELECT SUM(Rainfall) FROM Weather WHERE City='Cairo'\")\n",
    "cur.fetchall()"
   ]
  },
  {
   "cell_type": "code",
   "execution_count": 36,
   "id": "2fc0e76f",
   "metadata": {},
   "outputs": [
    {
     "data": {
      "text/plain": [
       "[(569.0,), (192.29999999999998,), (1706.5,), (230.1,)]"
      ]
     },
     "execution_count": 36,
     "metadata": {},
     "output_type": "execute_result"
    }
   ],
   "source": [
    "# h) The total rainfall for each season.\n",
    "cur.execute(\"SELECT SUM(Rainfall) FROM Weather GROUP BY Season\")\n",
    "cur.fetchall()"
   ]
  },
  {
   "cell_type": "code",
   "execution_count": 37,
   "id": "e707c458",
   "metadata": {},
   "outputs": [],
   "source": [
    "# Question 9\n",
    "\n",
    "words = ['The', 'quick', 'brown', 'fox', 'jumps', 'over','the', 'lazy', 'dog']\n"
   ]
  },
  {
   "cell_type": "code",
   "execution_count": 38,
   "id": "defeebe3",
   "metadata": {},
   "outputs": [
    {
     "data": {
      "text/plain": [
       "['THE', 'QUICK', 'BROWN', 'FOX', 'JUMPS', 'OVER', 'THE', 'LAZY', 'DOG']"
      ]
     },
     "execution_count": 38,
     "metadata": {},
     "output_type": "execute_result"
    }
   ],
   "source": [
    "# a) Making all the words to upper case\n",
    "a=[x.upper() for x in words]\n",
    "a"
   ]
  },
  {
   "cell_type": "code",
   "execution_count": 39,
   "id": "3c04f4f1",
   "metadata": {},
   "outputs": [
    {
     "data": {
      "text/plain": [
       "['the', 'quick', 'brown', 'fox', 'jumps', 'over', 'the', 'lazy', 'dog']"
      ]
     },
     "execution_count": 39,
     "metadata": {},
     "output_type": "execute_result"
    }
   ],
   "source": [
    "# b ) Making all the words to lower case\n",
    "b=[x.lower() for x in words]\n",
    "b"
   ]
  },
  {
   "cell_type": "code",
   "execution_count": 40,
   "id": "d90fccec",
   "metadata": {},
   "outputs": [
    {
     "data": {
      "text/plain": [
       "[3, 5, 5, 3, 5, 4, 3, 4, 3]"
      ]
     },
     "execution_count": 40,
     "metadata": {},
     "output_type": "execute_result"
    }
   ],
   "source": [
    "# c ) the list of lengths of words in list words\n",
    "c=[len(x) for x in words]\n",
    "c"
   ]
  },
  {
   "cell_type": "code",
   "execution_count": 41,
   "id": "0b8f3e83",
   "metadata": {},
   "outputs": [
    {
     "data": {
      "text/plain": [
       "[['THE', 'the', 3],\n",
       " ['QUICK', 'quick', 5],\n",
       " ['BROWN', 'brown', 5],\n",
       " ['FOX', 'fox', 3],\n",
       " ['JUMPS', 'jumps', 5],\n",
       " ['OVER', 'over', 4],\n",
       " ['THE', 'the', 3],\n",
       " ['LAZY', 'lazy', 4],\n",
       " ['DOG', 'dog', 3]]"
      ]
     },
     "execution_count": 41,
     "metadata": {},
     "output_type": "execute_result"
    }
   ],
   "source": [
    "# d ) the list containing a list for every word of list words, where each list contains the word in uppercase and lowercase and the length of the word.\n",
    "m=[a,b,c]\n",
    "d=[[m[i][j] for i in range(0,len(m)) ]for j in range (0,len(a))]\n",
    "d"
   ]
  },
  {
   "cell_type": "code",
   "execution_count": 42,
   "id": "8b3fa1a0",
   "metadata": {},
   "outputs": [
    {
     "data": {
      "text/plain": [
       "['quick', 'brown', 'jumps', 'over', 'lazy']"
      ]
     },
     "execution_count": 42,
     "metadata": {},
     "output_type": "execute_result"
    }
   ],
   "source": [
    "# e ) the list of words in list words containing 4 or more characters.\n",
    "e=[x for x in words if len(x)>=4]\n",
    "e"
   ]
  },
  {
   "cell_type": "code",
   "execution_count": null,
   "id": "f77820e9",
   "metadata": {},
   "outputs": [],
   "source": []
  }
 ],
 "metadata": {
  "kernelspec": {
   "display_name": "Python 3 (ipykernel)",
   "language": "python",
   "name": "python3"
  },
  "language_info": {
   "codemirror_mode": {
    "name": "ipython",
    "version": 3
   },
   "file_extension": ".py",
   "mimetype": "text/x-python",
   "name": "python",
   "nbconvert_exporter": "python",
   "pygments_lexer": "ipython3",
   "version": "3.9.13"
  }
 },
 "nbformat": 4,
 "nbformat_minor": 5
}
