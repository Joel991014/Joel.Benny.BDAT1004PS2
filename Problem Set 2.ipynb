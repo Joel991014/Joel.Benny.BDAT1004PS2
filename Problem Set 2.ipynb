{
 "cells": [
  {
   "cell_type": "code",
   "execution_count": 1,
   "id": "3ec6d17c",
   "metadata": {},
   "outputs": [
    {
     "data": {
      "text/plain": [
       "6"
      ]
     },
     "execution_count": 1,
     "metadata": {},
     "output_type": "execute_result"
    }
   ],
   "source": [
    "#Question 1\n",
    "\n",
    "# Consider the following Python module:\n",
    "# a = 0\n",
    "# def b():\n",
    "#  global a\n",
    "#  a = c(a)\n",
    "# def c(a):\n",
    "#  return a + 2\n",
    "# After importing the module into the interpreter, you execute:\n",
    "# >>> b()\n",
    "# >>> b()\n",
    "# >>> b()\n",
    "# >>> a\n",
    "# ?\n",
    "# What value is displayed when the last expression (a) is evaluated? Explain your\n",
    "# answer by indicating what happens in every executed statement.\n",
    "\n",
    "\n",
    "a = 0\n",
    "def b():\n",
    "    global a\n",
    "    a = c(a)\n",
    "def c(a):\n",
    "    return a + 2\n",
    "b()\n",
    "b()\n",
    "b()\n",
    "a"
   ]
  },
  {
   "cell_type": "code",
   "execution_count": null,
   "id": "d57e4fdf",
   "metadata": {},
   "outputs": [],
   "source": []
  },
  {
   "cell_type": "code",
   "execution_count": 4,
   "id": "3fe47281",
   "metadata": {},
   "outputs": [],
   "source": [
    "# Question 2\n",
    "\n",
    "# Function fileLength(), given to you, takes the name of a file as input and returns\n",
    "# the length of the file:\n",
    "# >>> fileLength('midterm.py')\n",
    "# 284\n",
    "# >>> fileLength('idterm.py')\n",
    "# Traceback (most recent call last):\n",
    "# File \"<pyshell#34>\", line 1, in <module>\n",
    "#  fileLength('idterm.py')\n",
    "# File \"/Users/me/midterm.py\", line 3, in fileLength\n",
    "#  infile = open(filename)\n",
    "# FileNotFoundError: [Errno 2] No such file or directory:\n",
    "# 'idterm.py'\n",
    "# As shown above, if the file cannot be found by the interpreter or if it cannot be read\n",
    "# as a text file, an exception will be raised. Modify function fileLength() so that a\n",
    "# friendly message is printed instead:\n",
    "# >>> fileLength('midterm.py')\n",
    "# 358\n",
    "# >>> fileLength('idterm.py')\n",
    "# File idterm.py not found\n",
    "\n",
    "def fileLength(file_name):\n",
    "    try:\n",
    "        file = open(file_name)\n",
    "        contents = file.read()\n",
    "        file.close()\n",
    "        print(len(contents))\n",
    "    except:\n",
    "        print(\"File \"+str(file_name)+\"not found\")\n",
    "        "
   ]
  },
  {
   "cell_type": "code",
   "execution_count": 5,
   "id": "b6ba3f22",
   "metadata": {},
   "outputs": [
    {
     "name": "stdout",
     "output_type": "stream",
     "text": [
      "File idterm.pynot found\n"
     ]
    }
   ],
   "source": [
    "fileLength('idterm.py')"
   ]
  },
  {
   "cell_type": "code",
   "execution_count": 14,
   "id": "4bd90830",
   "metadata": {},
   "outputs": [
    {
     "name": "stdout",
     "output_type": "stream",
     "text": [
      "contents in the list are\n",
      "['doll', 'firetruck', 'kitten']\n",
      "I am a Kangaroo located at coordinates(3,0)\n"
     ]
    }
   ],
   "source": [
    "# Write a class named Marsupial that can be used as shown below:\n",
    "# >>> m = Marsupial()\n",
    "# >>> m.put_in_pouch('doll')\n",
    "# >>> m.put_in_pouch('firetruck')\n",
    "# >>> m.put_in_pouch('kitten')\n",
    "# >>> m.pouch_contents()\n",
    "# ['doll', 'firetruck', 'kitten']\n",
    "# Now write a class named Kangaroo as a subclass of Marsupial that inherits all the\n",
    "# attributes of Marsupial and also:\n",
    "# a. extends the Marsupial __init__ constructor to take, as input, the\n",
    "# coordinates x and y of the Kangaroo object,\n",
    "# b. supports method jump that takes number values dx and dy as input and\n",
    "# moves the kangaroo by dx units along the x-axis and by dy units along the yaxis, and\n",
    "# c. overloads the __str__ operator so it behaves as shown below.\n",
    "# >>> k = Kangaroo(0,0)\n",
    "# >>> print(k)\n",
    "# I am a Kangaroo located at coordinates (0,0)\n",
    "# >>> k.put_in_pouch('doll')\n",
    "# >>> k.put_in_pouch('firetruck')\n",
    "# >>> k.put_in_pouch('kitten')\n",
    "# >>> k.pouch_contents()\n",
    "# ['doll', 'firetruck', 'kitten']\n",
    "# >>> k.jump(1,0)\n",
    "# >>> k.jump(1,0)\n",
    "# >>> k.jump(1,0)\n",
    "# >>> print(k)\n",
    "# I am a Kangaroo located at coordinates (3,0)\n",
    "\n",
    "\n",
    "class Marsupial: \n",
    "      \n",
    "    def __init__(self,a,b):            \n",
    "        self.pouch=[]                   \n",
    "        \n",
    "        \n",
    "    def put_in_pouch(self,items):        \n",
    "        self.pouch.append(items)\n",
    "        \n",
    "    def pouch_contents(self):           \n",
    "        return self.pouch\n",
    "\n",
    "class Kangaroo(Marsupial):             \n",
    "    def __init__(self,a,b):              \n",
    "        super().__init__(a,b)          \n",
    "        self.da = 0                      \n",
    "        self.db = 0                        \n",
    "    \n",
    "    def jump(self,a,b):                 \n",
    "        self.da = self.da + a              \n",
    "        self.db = self.db + b\n",
    "    \n",
    "    def __str__(self):                                                       \n",
    "        \n",
    "        return ('I am a Kangaroo located at coordinates({},{})'.format(self.da,self.db))\n",
    "\n",
    "x = Kangaroo(0,0)\n",
    "x.put_in_pouch('doll')\n",
    "x.put_in_pouch('firetruck')\n",
    "x.put_in_pouch('kitten')\n",
    "x.pouch_contents()\n",
    "print(\"contents in the list are\")\n",
    "print(x.pouch)  \n",
    "x.jump(1,0)\n",
    "x.jump(1,0)\n",
    "x.jump(1,0)\n",
    "print(x)"
   ]
  },
  {
   "cell_type": "code",
   "execution_count": 2,
   "id": "41f69a33",
   "metadata": {},
   "outputs": [],
   "source": [
    "# Question 4\n",
    "# Write function collatz() that takes a positive integer x as input and prints the\n",
    "# Collatz sequence starting at x. A Collatz sequence is obtained by repeatedly applying\n",
    "# this rule to the previous number x in the sequence:\n",
    "# x = {\n",
    "# 𝑥/2 𝑖𝑓 𝑥 𝑖𝑠 𝑒𝑣𝑒𝑛\n",
    "# 3𝑥 + 1 𝑖𝑓 𝑥 𝑖𝑠 𝑜𝑑𝑑\n",
    "# Your function should stop when the sequence gets to number 1. Your\n",
    "# implementation must be recursive, without any loops.\n",
    "#  >>> collatz(1)\n",
    "# 1\n",
    "# >>> collatz(10)\n",
    "# 10\n",
    "# 5\n",
    "# 16\n",
    "# 8\n",
    "# 4\n",
    "# 2)\n",
    "# 1\n",
    "\n",
    "def collatz(x):\n",
    "    if x==1:\n",
    "        return 1\n",
    "    else:\n",
    "        print(x)\n",
    "        if x%2==0:\n",
    "            return collatz(x//2)\n",
    "        else: \n",
    "            return collatz(3*x+1)"
   ]
  },
  {
   "cell_type": "code",
   "execution_count": 4,
   "id": "2416d6ff",
   "metadata": {},
   "outputs": [
    {
     "data": {
      "text/plain": [
       "1"
      ]
     },
     "execution_count": 4,
     "metadata": {},
     "output_type": "execute_result"
    }
   ],
   "source": [
    "collatz(1)"
   ]
  },
  {
   "cell_type": "code",
   "execution_count": 5,
   "id": "85456942",
   "metadata": {},
   "outputs": [
    {
     "name": "stdout",
     "output_type": "stream",
     "text": [
      "10\n",
      "5\n",
      "16\n",
      "8\n",
      "4\n",
      "2\n"
     ]
    },
    {
     "data": {
      "text/plain": [
       "1"
      ]
     },
     "execution_count": 5,
     "metadata": {},
     "output_type": "execute_result"
    }
   ],
   "source": [
    "collatz(10)"
   ]
  },
  {
   "cell_type": "code",
   "execution_count": 6,
   "id": "6a8859fb",
   "metadata": {},
   "outputs": [],
   "source": [
    "# Question 5\n",
    "# Write a recursive method binary() that takes a non-negative\n",
    "# integer n and prints the binary representation of integer n.\n",
    "# >>> binary(0)\n",
    "# 0\n",
    "# >>> binary(1)\n",
    "# 1\n",
    "# >>> binary(3)\n",
    "# 11\n",
    "# >>> binary(9)\n",
    "# 1001\n",
    "\n",
    "\n",
    "def binary(n):\n",
    "    if n==0:\n",
    "        return 0\n",
    "    else:\n",
    "        binary(n//2)\n",
    "        print(n%2,end='')\n",
    "            "
   ]
  },
  {
   "cell_type": "code",
   "execution_count": 7,
   "id": "29681069",
   "metadata": {},
   "outputs": [
    {
     "data": {
      "text/plain": [
       "0"
      ]
     },
     "execution_count": 7,
     "metadata": {},
     "output_type": "execute_result"
    }
   ],
   "source": [
    "binary(0)"
   ]
  },
  {
   "cell_type": "code",
   "execution_count": 8,
   "id": "68c2e3bc",
   "metadata": {},
   "outputs": [
    {
     "name": "stdout",
     "output_type": "stream",
     "text": [
      "1"
     ]
    }
   ],
   "source": [
    "binary(1)"
   ]
  },
  {
   "cell_type": "code",
   "execution_count": 9,
   "id": "e8d78a69",
   "metadata": {},
   "outputs": [
    {
     "name": "stdout",
     "output_type": "stream",
     "text": [
      "11"
     ]
    }
   ],
   "source": [
    "binary(3)"
   ]
  },
  {
   "cell_type": "code",
   "execution_count": 10,
   "id": "a4b81ef2",
   "metadata": {},
   "outputs": [
    {
     "name": "stdout",
     "output_type": "stream",
     "text": [
      "1001"
     ]
    }
   ],
   "source": [
    "binary(9)"
   ]
  },
  {
   "cell_type": "code",
   "execution_count": 11,
   "id": "864bf6f5",
   "metadata": {},
   "outputs": [],
   "source": [
    "# Question 6\n",
    "# Implement a class named HeadingParser that can be used to parse an HTML\n",
    "# document, and retrieve and print all the headings in the document. You should\n",
    "# implement your class as a subclass of HTMLParser, defined in Standard Library\n",
    "# module html.parser. When fed a string containing HTML code, your class should\n",
    "# print the headings, one per line and in the order in which they appear in the\n",
    "# document. Each heading should be indented as follows: an h1 heading should have indentation 0, and h2 heading should have indentation 1, etc. Test your\n",
    "# implementation using w3c.html.\n",
    "# >>> infile = open('w3c.html')\n",
    "# >>> content = infile.read()\n",
    "# >>> infile.close()\n",
    "# >>> hp = HeadingParser()\n",
    "# >>> hp.feed(content)\n",
    "# W3C Mission\n",
    "# Principles\n",
    "\n",
    "\n",
    "from html.parser import HTMLParser\n",
    "store=[]\n",
    "class HeadingParser(HTMLParser):\n",
    "    global store\n",
    "    def handle_starttag(self, tag, attrs):\n",
    "        store.append(tag)\n",
    "    def handle_data(self, data):\n",
    "        store.append(data)        \n",
    "    def handle_endtag(self,tag):\n",
    "        if(tag==\"html\"):\n",
    "            for val in store:\n",
    "                for tagno in ('h1','h2','h3','h4','h5','h6'):\n",
    "                    if(val==tagno):\n",
    "                        ind=store.index(tagno)\n",
    "                        print(store[ind+1],end=\"\\n\\t\")"
   ]
  },
  {
   "cell_type": "code",
   "execution_count": 14,
   "id": "0783f92b",
   "metadata": {},
   "outputs": [
    {
     "name": "stdout",
     "output_type": "stream",
     "text": [
      "W3C Mission\n",
      "\tPrinciples\n",
      "\t"
     ]
    }
   ],
   "source": [
    "infile = open(\"C:/Users/joelb/W3c.html\")\n",
    "content = infile.read()\n",
    "infile.close()\n",
    "hp = HeadingParser()\n",
    "hp.feed(content)"
   ]
  },
  {
   "cell_type": "code",
   "execution_count": 25,
   "id": "43cb4b02",
   "metadata": {},
   "outputs": [],
   "source": [
    "# Question 7\n",
    "# Implement recursive function webdir() that takes as input: a URL (as a string) and\n",
    "# non-negative integers depth and indent. Your function should visit every web\n",
    "# page reachable from the starting URL web page in depth clicks or less, and print\n",
    "# each web page's URL. As shown below, indentation, specified by indent, should\n",
    "# be used to indicate the depth of a URL.\n",
    "# >>>\n",
    "# webdir('http://reed.cs.depaul.edu/lperkovic/csc242/test1.html'\n",
    "# , 2, 0)\n",
    "# http://reed.cs.depaul.edu/lperkovic/csc242/test1.html\n",
    "#  http://reed.cs.depaul.edu/lperkovic/csc242/test2.html\n",
    "#  http://reed.cs.depaul.edu/lperkovic/csc242/test4.html\n",
    "#  http://reed.cs.depaul.edu/lperkovic/csc242/test3.html\n",
    "#  http://reed.cs.depaul.edu/lperkovic/csc242/test4.html\n",
    "\n",
    "\n",
    "from urllib.request import urlopen\n",
    "from urllib.parse import urljoin\n",
    "from html.parser import HTMLParser\n",
    "\n",
    "class LinkParser(HTMLParser):\n",
    "    def init(self):\n",
    "        super().init()\n",
    "        self.links = []\n",
    "\n",
    "    def handle_starttag(self, tag, attrs):\n",
    "        if tag == 'a':\n",
    "            for attr in attrs:\n",
    "                if attr[0] == 'href':\n",
    "                    self.links.append(attr[1])\n",
    "\n",
    "def webdir(url, depth, indent):\n",
    "    if depth < 0:\n",
    "        return\n",
    "\n",
    "    print(' ' * indent + url)\n",
    "\n",
    "    try:\n",
    "        response = urlopen(url)\n",
    "    except:\n",
    "        return\n",
    "\n",
    "    parser = LinkParser()\n",
    "    parser.feed(response.read().decode())\n",
    "\n",
    "    for link in parser.links:\n",
    "        absolute_url = urljoin(url, link)\n",
    "        webdir(absolute_url, depth - 1, indent + 1)"
   ]
  },
  {
   "cell_type": "code",
   "execution_count": 43,
   "id": "94e1f861",
   "metadata": {},
   "outputs": [
    {
     "name": "stdout",
     "output_type": "stream",
     "text": [
      "http://reed.cs.depaul.edu/lperkovic/csc242/test1.html\n"
     ]
    }
   ],
   "source": [
    "webdir('http://reed.cs.depaul.edu/lperkovic/csc242/test1.html', 2, 0)"
   ]
  },
  {
   "cell_type": "code",
   "execution_count": 17,
   "id": "c59191c9",
   "metadata": {},
   "outputs": [
    {
     "name": "stdout",
     "output_type": "stream",
     "text": [
      "Collecting ipython-sql\n",
      "  Downloading ipython_sql-0.5.0-py3-none-any.whl (20 kB)\n",
      "Requirement already satisfied: ipython-genutils in c:\\users\\joelb\\anaconda3\\lib\\site-packages (from ipython-sql) (0.2.0)\n",
      "Collecting prettytable\n",
      "  Downloading prettytable-3.6.0-py3-none-any.whl (27 kB)\n",
      "Collecting sqlalchemy>=2.0\n",
      "  Downloading SQLAlchemy-2.0.5.post1-cp39-cp39-win_amd64.whl (2.0 MB)\n",
      "     ---------------------------------------- 2.0/2.0 MB 4.6 MB/s eta 0:00:00\n",
      "Requirement already satisfied: ipython in c:\\users\\joelb\\anaconda3\\lib\\site-packages (from ipython-sql) (7.31.1)\n",
      "Requirement already satisfied: six in c:\\users\\joelb\\anaconda3\\lib\\site-packages (from ipython-sql) (1.16.0)\n",
      "Collecting sqlparse\n",
      "  Downloading sqlparse-0.4.3-py3-none-any.whl (42 kB)\n",
      "     ---------------------------------------- 42.8/42.8 kB 2.0 MB/s eta 0:00:00\n",
      "Requirement already satisfied: typing-extensions>=4.2.0 in c:\\users\\joelb\\anaconda3\\lib\\site-packages (from sqlalchemy>=2.0->ipython-sql) (4.3.0)\n",
      "Requirement already satisfied: greenlet!=0.4.17 in c:\\users\\joelb\\anaconda3\\lib\\site-packages (from sqlalchemy>=2.0->ipython-sql) (1.1.1)\n",
      "Requirement already satisfied: backcall in c:\\users\\joelb\\anaconda3\\lib\\site-packages (from ipython->ipython-sql) (0.2.0)\n",
      "Requirement already satisfied: jedi>=0.16 in c:\\users\\joelb\\anaconda3\\lib\\site-packages (from ipython->ipython-sql) (0.18.1)\n",
      "Requirement already satisfied: pickleshare in c:\\users\\joelb\\anaconda3\\lib\\site-packages (from ipython->ipython-sql) (0.7.5)\n",
      "Requirement already satisfied: colorama in c:\\users\\joelb\\anaconda3\\lib\\site-packages (from ipython->ipython-sql) (0.4.5)\n",
      "Requirement already satisfied: decorator in c:\\users\\joelb\\anaconda3\\lib\\site-packages (from ipython->ipython-sql) (5.1.1)\n",
      "Requirement already satisfied: pygments in c:\\users\\joelb\\anaconda3\\lib\\site-packages (from ipython->ipython-sql) (2.11.2)\n",
      "Requirement already satisfied: matplotlib-inline in c:\\users\\joelb\\anaconda3\\lib\\site-packages (from ipython->ipython-sql) (0.1.6)\n",
      "Requirement already satisfied: prompt-toolkit!=3.0.0,!=3.0.1,<3.1.0,>=2.0.0 in c:\\users\\joelb\\anaconda3\\lib\\site-packages (from ipython->ipython-sql) (3.0.20)\n",
      "Requirement already satisfied: setuptools>=18.5 in c:\\users\\joelb\\anaconda3\\lib\\site-packages (from ipython->ipython-sql) (63.4.1)\n",
      "Requirement already satisfied: traitlets>=4.2 in c:\\users\\joelb\\anaconda3\\lib\\site-packages (from ipython->ipython-sql) (5.1.1)\n",
      "Requirement already satisfied: wcwidth in c:\\users\\joelb\\anaconda3\\lib\\site-packages (from prettytable->ipython-sql) (0.2.5)\n",
      "Requirement already satisfied: parso<0.9.0,>=0.8.0 in c:\\users\\joelb\\anaconda3\\lib\\site-packages (from jedi>=0.16->ipython->ipython-sql) (0.8.3)\n",
      "Installing collected packages: sqlparse, sqlalchemy, prettytable, ipython-sql\n",
      "  Attempting uninstall: sqlalchemy\n",
      "    Found existing installation: SQLAlchemy 1.4.39\n",
      "    Uninstalling SQLAlchemy-1.4.39:\n",
      "      Successfully uninstalled SQLAlchemy-1.4.39\n",
      "Successfully installed ipython-sql-0.5.0 prettytable-3.6.0 sqlalchemy-2.0.5.post1 sqlparse-0.4.3\n"
     ]
    }
   ],
   "source": [
    " !pip install ipython-sql\n",
    "    "
   ]
  },
  {
   "cell_type": "code",
   "execution_count": 18,
   "id": "1bba8f36",
   "metadata": {},
   "outputs": [],
   "source": [
    "# Question 8\n",
    "# Write SQL queries on the below database table that return:\n",
    "# a) All the temperature data.\n",
    "# b) All the cities, but without repetition.\n",
    "# c) All the records for India.\n",
    "# d) All the Fall records.\n",
    "# e) The city, country, and season for which the average rainfall is between 200\n",
    "# and 400 millimeters.\n",
    "# f) The city and country for which the average Fall temperature is above 20\n",
    "# degrees, in increasing temperature order.\n",
    "# g) The total annual rainfall for Cairo.\n",
    "# h) The total rainfall for each season.\n",
    "\n",
    "import sqlite3\n",
    "con = sqlite3.connect('p2.db')\n",
    "cur = con.cursor()\n"
   ]
  },
  {
   "cell_type": "code",
   "execution_count": 19,
   "id": "3ce24326",
   "metadata": {},
   "outputs": [
    {
     "data": {
      "text/plain": [
       "<sqlite3.Cursor at 0x1fcc6dd3420>"
      ]
     },
     "execution_count": 19,
     "metadata": {},
     "output_type": "execute_result"
    }
   ],
   "source": [
    "\n",
    "cur.execute(\"CREATE TABLE Weather (City text, Country text, Season text, Temperature float, Rainfall float)\")"
   ]
  },
  {
   "cell_type": "code",
   "execution_count": 20,
   "id": "ca593013",
   "metadata": {},
   "outputs": [
    {
     "data": {
      "text/plain": [
       "<sqlite3.Cursor at 0x1fcc6dd3420>"
      ]
     },
     "execution_count": 20,
     "metadata": {},
     "output_type": "execute_result"
    }
   ],
   "source": [
    "r=('Mumbai','India','Winter',24.8,5.9)\n",
    "cur.execute(\"INSERT INTO Weather VALUES(?,?,?,?,?)\",r)"
   ]
  },
  {
   "cell_type": "code",
   "execution_count": 21,
   "id": "368f04b1",
   "metadata": {},
   "outputs": [
    {
     "data": {
      "text/plain": [
       "<sqlite3.Cursor at 0x1fcc6dd3420>"
      ]
     },
     "execution_count": 21,
     "metadata": {},
     "output_type": "execute_result"
    }
   ],
   "source": [
    "r=('Mumbai','India','Spring',28.4,16.2)\n",
    "cur.execute(\"INSERT INTO Weather  VALUES(?,?,?,?,?)\",r)\n",
    "r=('Mumbai','India', 'Summer', 27.9 ,1549.4)\n",
    "cur.execute(\"INSERT INTO Weather  VALUES(?,?,?,?,?)\",r)\n",
    "r=('Mumbai','India','Fall', 27.6, 346.0)\n",
    "cur.execute(\"INSERT INTO Weather  VALUES(?,?,?,?,?)\",r)\n",
    "r=('London' ,'United Kingdom', 'Winter', 4.2 ,207.7)\n",
    "cur.execute(\"INSERT INTO Weather  VALUES(?,?,?,?,?)\",r)\n",
    "r=('London' ,'United Kingdom','Spring',8.3 ,169.6)\n",
    "cur.execute(\"INSERT INTO Weather  VALUES(?,?,?,?,?)\",r)\n",
    "r=('London' ,'United Kingdom', 'Summer', 15.7 ,157.0)\n",
    "cur.execute(\"INSERT INTO Weather  VALUES(?,?,?,?,?)\",r)\n",
    "r=('London' ,'United Kingdom','Fall',10.4 ,218.5)\n",
    "cur.execute(\"INSERT INTO Weather  VALUES(?,?,?,?,?)\",r)\n",
    "r=('Cairo', 'Egypt' ,'Winter' , 13.6 ,16.5)\n",
    "cur.execute(\"INSERT INTO Weather  VALUES(?,?,?,?,?)\",r)\n",
    "r=('Cairo', 'Egypt' ,'Spring' , 20.7 ,6.5)\n",
    "cur.execute(\"INSERT INTO Weather  VALUES(?,?,?,?,?)\",r)\n",
    "r=('Cairo', 'Egypt' ,'Summer' , 27.7 ,0.1)\n",
    "cur.execute(\"INSERT INTO Weather  VALUES(?,?,?,?,?)\",r)\n",
    "r=('Cairo', 'Egypt' ,'Fall' ,22.2 ,4.5)\n",
    "cur.execute(\"INSERT INTO Weather  VALUES(?,?,?,?,?)\",r)"
   ]
  },
  {
   "cell_type": "code",
   "execution_count": 22,
   "id": "a78e083f",
   "metadata": {},
   "outputs": [],
   "source": [
    "con.commit()\n",
    "con.close()"
   ]
  },
  {
   "cell_type": "code",
   "execution_count": 23,
   "id": "19b30c55",
   "metadata": {},
   "outputs": [
    {
     "data": {
      "text/plain": [
       "[('Mumbai', 'India', 'Winter', 24.8, 5.9),\n",
       " ('Mumbai', 'India', 'Spring', 28.4, 16.2),\n",
       " ('Mumbai', 'India', 'Summer', 27.9, 1549.4),\n",
       " ('Mumbai', 'India', 'Fall', 27.6, 346.0),\n",
       " ('London', 'United Kingdom', 'Winter', 4.2, 207.7),\n",
       " ('London', 'United Kingdom', 'Spring', 8.3, 169.6),\n",
       " ('London', 'United Kingdom', 'Summer', 15.7, 157.0),\n",
       " ('London', 'United Kingdom', 'Fall', 10.4, 218.5),\n",
       " ('Cairo', 'Egypt', 'Winter', 13.6, 16.5),\n",
       " ('Cairo', 'Egypt', 'Spring', 20.7, 6.5),\n",
       " ('Cairo', 'Egypt', 'Summer', 27.7, 0.1),\n",
       " ('Cairo', 'Egypt', 'Fall', 22.2, 4.5)]"
      ]
     },
     "execution_count": 23,
     "metadata": {},
     "output_type": "execute_result"
    }
   ],
   "source": [
    "con = sqlite3.connect('p2.db')\n",
    "cur = con.cursor()\n",
    "cur.execute('SELECT * FROM Weather')\n",
    "cur.fetchall()"
   ]
  },
  {
   "cell_type": "code",
   "execution_count": 24,
   "id": "4d099d7a",
   "metadata": {},
   "outputs": [
    {
     "data": {
      "text/plain": [
       "[(24.8,),\n",
       " (28.4,),\n",
       " (27.9,),\n",
       " (27.6,),\n",
       " (4.2,),\n",
       " (8.3,),\n",
       " (15.7,),\n",
       " (10.4,),\n",
       " (13.6,),\n",
       " (20.7,),\n",
       " (27.7,),\n",
       " (22.2,)]"
      ]
     },
     "execution_count": 24,
     "metadata": {},
     "output_type": "execute_result"
    }
   ],
   "source": [
    "# a) All the temperature data.\n",
    "cur.execute('SELECT Temperature FROM Weather')\n",
    "cur.fetchall()"
   ]
  },
  {
   "cell_type": "code",
   "execution_count": 28,
   "id": "20911374",
   "metadata": {},
   "outputs": [
    {
     "data": {
      "text/plain": [
       "[('Mumbai',), ('London',), ('Cairo',)]"
      ]
     },
     "execution_count": 28,
     "metadata": {},
     "output_type": "execute_result"
    }
   ],
   "source": [
    "# b) All the cities, but without repetition.\n",
    "cur.execute('SELECT DISTINCT City FROM Weather')\n",
    "cur.fetchall()"
   ]
  },
  {
   "cell_type": "code",
   "execution_count": 31,
   "id": "7701ccea",
   "metadata": {},
   "outputs": [
    {
     "data": {
      "text/plain": [
       "[('Mumbai', 'India', 'Winter', 24.8, 5.9),\n",
       " ('Mumbai', 'India', 'Spring', 28.4, 16.2),\n",
       " ('Mumbai', 'India', 'Summer', 27.9, 1549.4),\n",
       " ('Mumbai', 'India', 'Fall', 27.6, 346.0)]"
      ]
     },
     "execution_count": 31,
     "metadata": {},
     "output_type": "execute_result"
    }
   ],
   "source": [
    "# c) All the records for India.\n",
    "cur.execute(\"SELECT *  FROM Weather WHERE Country = 'India'\")\n",
    "cur.fetchall()"
   ]
  },
  {
   "cell_type": "code",
   "execution_count": 32,
   "id": "6352e057",
   "metadata": {},
   "outputs": [
    {
     "data": {
      "text/plain": [
       "[('Mumbai', 'India', 'Fall', 27.6, 346.0),\n",
       " ('London', 'United Kingdom', 'Fall', 10.4, 218.5),\n",
       " ('Cairo', 'Egypt', 'Fall', 22.2, 4.5)]"
      ]
     },
     "execution_count": 32,
     "metadata": {},
     "output_type": "execute_result"
    }
   ],
   "source": [
    "# d) All the Fall records.\n",
    "\n",
    "cur.execute(\"SELECT *  FROM Weather WHERE Season = 'Fall'\")\n",
    "cur.fetchall()"
   ]
  },
  {
   "cell_type": "code",
   "execution_count": 33,
   "id": "052c1586",
   "metadata": {},
   "outputs": [
    {
     "data": {
      "text/plain": [
       "[('Mumbai', 'India', 'Fall'),\n",
       " ('London', 'United Kingdom', 'Winter'),\n",
       " ('London', 'United Kingdom', 'Fall')]"
      ]
     },
     "execution_count": 33,
     "metadata": {},
     "output_type": "execute_result"
    }
   ],
   "source": [
    "# e) The city, country, and season for which the average rainfall is between 200 and 400 millimeters.\n",
    "cur.execute(\"SELECT City,Country,Season FROM Weather WHERE Rainfall BETWEEN 200 AND 400\")\n",
    "cur.fetchall()"
   ]
  },
  {
   "cell_type": "code",
   "execution_count": 34,
   "id": "a442cd1b",
   "metadata": {},
   "outputs": [
    {
     "data": {
      "text/plain": [
       "[('Cairo', 'Egypt'), ('Mumbai', 'India')]"
      ]
     },
     "execution_count": 34,
     "metadata": {},
     "output_type": "execute_result"
    }
   ],
   "source": [
    "# f) The city and country for which the average Fall temperature is above 20 degrees, in increasing temperature order\n",
    "cur.execute(\"SELECT DISTINCT City,Country FROM Weather WHERE Temperature> 20 ORDER BY Temperature ASC\")\n",
    "cur.fetchall()"
   ]
  },
  {
   "cell_type": "code",
   "execution_count": 35,
   "id": "9ec940f2",
   "metadata": {},
   "outputs": [
    {
     "data": {
      "text/plain": [
       "[(27.6,)]"
      ]
     },
     "execution_count": 35,
     "metadata": {},
     "output_type": "execute_result"
    }
   ],
   "source": [
    "# g) The total annual rainfall for Cairo.\n",
    "cur.execute(\"SELECT SUM(Rainfall) FROM Weather WHERE City='Cairo'\")\n",
    "cur.fetchall()"
   ]
  },
  {
   "cell_type": "code",
   "execution_count": 36,
   "id": "a3fe1b2c",
   "metadata": {},
   "outputs": [
    {
     "data": {
      "text/plain": [
       "[(569.0,), (192.29999999999998,), (1706.5,), (230.1,)]"
      ]
     },
     "execution_count": 36,
     "metadata": {},
     "output_type": "execute_result"
    }
   ],
   "source": [
    "# h) The total rainfall for each season.\n",
    "cur.execute(\"SELECT SUM(Rainfall) FROM Weather GROUP BY Season\")\n",
    "cur.fetchall()"
   ]
  },
  {
   "cell_type": "code",
   "execution_count": 37,
   "id": "b3acb86f",
   "metadata": {},
   "outputs": [],
   "source": [
    "# Question 9\n",
    "# . Suppose list words is defined as follows:\n",
    "# >>> words = ['The', 'quick', 'brown', 'fox', 'jumps', 'over',\n",
    "# 'the', 'lazy', 'dog']\n",
    "# Write list comprehension expressions that use list words and generate the following\n",
    "# lists:\n",
    "# a) ['THE', 'QUICK', 'BROWN', 'FOX', 'JUMPS', 'OVER', 'THE',\n",
    "# 'LAZY', 'DOG']\n",
    "# b) ['the', 'quick', 'brown', 'fox', 'jumps', 'over', 'the',\n",
    "# 'lazy', 'dog']\n",
    "# c) [3, 5, 5, 3, 5, 4, 3, 4, 3] (the list of lengths of words in list\n",
    "# words).\n",
    "# d) [['THE', 'the', 3], ['QUICK', 'quick', 5], ['BROWN',\n",
    "# 'brown', 5], ['FOX', 'fox', 3], ['JUMPS', 'jumps', 5],\n",
    "# ['OVER', 'over', 4], ['THE', 'the', 3], ['LAZY', 'lazy',\n",
    "# 4], ['DOG', 'dog', 3]] (the list containing a list for every word of list\n",
    "# words, where each list contains the word in uppercase and lowercase and the\n",
    "# length of the word.)\n",
    "# e) ['The', 'quick', 'brown', 'fox', 'jumps', 'over', 'the',\n",
    "# 'lazy', 'dog'] (the list of words in list words containing 4 or more\n",
    "# characters.)\n",
    "\n",
    "words = ['The', 'quick', 'brown', 'fox', 'jumps', 'over','the', 'lazy', 'dog']\n"
   ]
  },
  {
   "cell_type": "code",
   "execution_count": 38,
   "id": "5c4c0793",
   "metadata": {},
   "outputs": [
    {
     "data": {
      "text/plain": [
       "['THE', 'QUICK', 'BROWN', 'FOX', 'JUMPS', 'OVER', 'THE', 'LAZY', 'DOG']"
      ]
     },
     "execution_count": 38,
     "metadata": {},
     "output_type": "execute_result"
    }
   ],
   "source": [
    "# a) Making all the words to upper case\n",
    "a=[x.upper() for x in words]\n",
    "a"
   ]
  },
  {
   "cell_type": "code",
   "execution_count": 39,
   "id": "20b93591",
   "metadata": {},
   "outputs": [
    {
     "data": {
      "text/plain": [
       "['the', 'quick', 'brown', 'fox', 'jumps', 'over', 'the', 'lazy', 'dog']"
      ]
     },
     "execution_count": 39,
     "metadata": {},
     "output_type": "execute_result"
    }
   ],
   "source": [
    "# b ) Making all the words to lower case\n",
    "b=[x.lower() for x in words]\n",
    "b"
   ]
  },
  {
   "cell_type": "code",
   "execution_count": 40,
   "id": "00693c98",
   "metadata": {},
   "outputs": [
    {
     "data": {
      "text/plain": [
       "[3, 5, 5, 3, 5, 4, 3, 4, 3]"
      ]
     },
     "execution_count": 40,
     "metadata": {},
     "output_type": "execute_result"
    }
   ],
   "source": [
    "# c ) the list of lengths of words in list words\n",
    "c=[len(x) for x in words]\n",
    "c"
   ]
  },
  {
   "cell_type": "code",
   "execution_count": 41,
   "id": "667c5e8e",
   "metadata": {},
   "outputs": [
    {
     "data": {
      "text/plain": [
       "[['THE', 'the', 3],\n",
       " ['QUICK', 'quick', 5],\n",
       " ['BROWN', 'brown', 5],\n",
       " ['FOX', 'fox', 3],\n",
       " ['JUMPS', 'jumps', 5],\n",
       " ['OVER', 'over', 4],\n",
       " ['THE', 'the', 3],\n",
       " ['LAZY', 'lazy', 4],\n",
       " ['DOG', 'dog', 3]]"
      ]
     },
     "execution_count": 41,
     "metadata": {},
     "output_type": "execute_result"
    }
   ],
   "source": [
    "# d ) the list containing a list for every word of list words, where each list contains the word in uppercase and lowercase and the length of the word.\n",
    "m=[a,b,c]\n",
    "d=[[m[i][j] for i in range(0,len(m)) ]for j in range (0,len(a))]\n",
    "d"
   ]
  },
  {
   "cell_type": "code",
   "execution_count": 42,
   "id": "4e0e8c37",
   "metadata": {},
   "outputs": [
    {
     "data": {
      "text/plain": [
       "['quick', 'brown', 'jumps', 'over', 'lazy']"
      ]
     },
     "execution_count": 42,
     "metadata": {},
     "output_type": "execute_result"
    }
   ],
   "source": [
    "# e ) the list of words in list words containing 4 or more characters.\n",
    "e=[x for x in words if len(x)>=4]\n",
    "e"
   ]
  },
  {
   "cell_type": "code",
   "execution_count": null,
   "id": "f6daeffd",
   "metadata": {},
   "outputs": [],
   "source": []
  }
 ],
 "metadata": {
  "kernelspec": {
   "display_name": "Python 3 (ipykernel)",
   "language": "python",
   "name": "python3"
  },
  "language_info": {
   "codemirror_mode": {
    "name": "ipython",
    "version": 3
   },
   "file_extension": ".py",
   "mimetype": "text/x-python",
   "name": "python",
   "nbconvert_exporter": "python",
   "pygments_lexer": "ipython3",
   "version": "3.9.13"
  }
 },
 "nbformat": 4,
 "nbformat_minor": 5
}
